{
  "nbformat": 4,
  "nbformat_minor": 0,
  "metadata": {
    "colab": {
      "provenance": [],
      "authorship_tag": "ABX9TyNaTiudkaUxUaeX1nuuWgsv",
      "include_colab_link": true
    },
    "kernelspec": {
      "name": "python3",
      "display_name": "Python 3"
    },
    "language_info": {
      "name": "python"
    }
  },
  "cells": [
    {
      "cell_type": "markdown",
      "metadata": {
        "id": "view-in-github",
        "colab_type": "text"
      },
      "source": [
        "<a href=\"https://colab.research.google.com/github/Qiyamipsz/PBO-2/blob/main/Lingkaran.ipynb\" target=\"_parent\"><img src=\"https://colab.research.google.com/assets/colab-badge.svg\" alt=\"Open In Colab\"/></a>"
      ]
    },
    {
      "cell_type": "markdown",
      "source": [
        "Kelas Lingkaran"
      ],
      "metadata": {
        "id": "4GJbPjEOCYw_"
      }
    },
    {
      "cell_type": "code",
      "execution_count": 1,
      "metadata": {
        "id": "x1_PZtc4CEtO"
      },
      "outputs": [],
      "source": [
        "# Mendefinisikan kelas Lingkaran\n",
        "import math\n",
        "\n",
        "class Lingkaran:\n",
        "    def __init__(self):\n",
        "        self.jari_jari = 0\n",
        "\n",
        "    # Method untuk menghitung luas lingkaran\n",
        "    def hitungLuas(self):\n",
        "        return math.pi * self.jari_jari ** 2"
      ]
    },
    {
      "cell_type": "markdown",
      "source": [
        "Objek blt"
      ],
      "metadata": {
        "id": "Dm7jZ_M3CkCO"
      }
    },
    {
      "cell_type": "code",
      "source": [
        "# Membuat objek dari kelas Lingkaran\n",
        "blt = Lingkaran()\n",
        "\n",
        "# Mengisi nilai atribut objek\n",
        "blt.jari_jari = 7"
      ],
      "metadata": {
        "id": "feGXNg55Crh2"
      },
      "execution_count": 2,
      "outputs": []
    },
    {
      "cell_type": "markdown",
      "source": [
        "Method hitungLuas"
      ],
      "metadata": {
        "id": "rg6Q6FUuCtl4"
      }
    },
    {
      "cell_type": "code",
      "source": [
        "# Memanggil method hitungLuas\n",
        "print(f\"Luas Lingkaran: {blt.hitungLuas():.2f}\")"
      ],
      "metadata": {
        "colab": {
          "base_uri": "https://localhost:8080/"
        },
        "id": "RfD63BAnDCh3",
        "outputId": "980a0fdc-4514-44da-c871-d4ff66008d26"
      },
      "execution_count": 3,
      "outputs": [
        {
          "output_type": "stream",
          "name": "stdout",
          "text": [
            "Luas Lingkaran: 153.94\n"
          ]
        }
      ]
    }
  ]
}