{
  "nbformat": 4,
  "nbformat_minor": 0,
  "metadata": {
    "colab": {
      "provenance": [],
      "authorship_tag": "ABX9TyMi/vLqhB/zkT3tWNReD5MV",
      "include_colab_link": true
    },
    "kernelspec": {
      "name": "python3",
      "display_name": "Python 3"
    },
    "language_info": {
      "name": "python"
    }
  },
  "cells": [
    {
      "cell_type": "markdown",
      "metadata": {
        "id": "view-in-github",
        "colab_type": "text"
      },
      "source": [
        "<a href=\"https://colab.research.google.com/github/Qiyamipsz/PBO-2/blob/main/Pegawai.ipynb\" target=\"_parent\"><img src=\"https://colab.research.google.com/assets/colab-badge.svg\" alt=\"Open In Colab\"/></a>"
      ]
    },
    {
      "cell_type": "markdown",
      "source": [
        "Class Pegawai"
      ],
      "metadata": {
        "id": "XTF8ycyTEaR5"
      }
    },
    {
      "cell_type": "code",
      "execution_count": 1,
      "metadata": {
        "id": "IuPcBUMTEWFw"
      },
      "outputs": [],
      "source": [
        "# Mendefinisikan kelas Pegawai\n",
        "class Pegawai:\n",
        "    def __init__(self):\n",
        "        self.nama = \"\"\n",
        "        self.gaji = 0\n",
        "\n",
        "    # Method untuk menampilkan gaji pegawai\n",
        "    def tampilkanGaji(self):\n",
        "        print(f\"Pegawai {self.nama} memiliki gaji sebesar Rp{self.gaji}\")"
      ]
    },
    {
      "cell_type": "markdown",
      "source": [
        "Objek pgw"
      ],
      "metadata": {
        "id": "NiaUjRg9Ehy2"
      }
    },
    {
      "cell_type": "code",
      "source": [
        "# Membuat objek dari kelas Pegawai\n",
        "pgw = Pegawai()\n",
        "\n",
        "# Mengisi nilai atribut objek\n",
        "pgw.nama = \"Andi\"\n",
        "pgw.gaji = 5000000"
      ],
      "metadata": {
        "id": "yZAGDbVdEwTx"
      },
      "execution_count": 2,
      "outputs": []
    },
    {
      "cell_type": "markdown",
      "source": [
        "Method tampilkanGaji"
      ],
      "metadata": {
        "id": "4-lMBiBTE0OA"
      }
    },
    {
      "cell_type": "code",
      "source": [
        "# Memanggil method tampilkanGaji\n",
        "pgw.tampilkanGaji()"
      ],
      "metadata": {
        "colab": {
          "base_uri": "https://localhost:8080/"
        },
        "id": "co7W1XPFE2mu",
        "outputId": "fb220ba9-1c78-40be-8f5d-56c4cae9bb88"
      },
      "execution_count": 3,
      "outputs": [
        {
          "output_type": "stream",
          "name": "stdout",
          "text": [
            "Pegawai Andi memiliki gaji sebesar Rp5000000\n"
          ]
        }
      ]
    }
  ]
}