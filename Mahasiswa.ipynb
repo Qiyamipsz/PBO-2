{
  "nbformat": 4,
  "nbformat_minor": 0,
  "metadata": {
    "colab": {
      "provenance": [],
      "authorship_tag": "ABX9TyM3sPoSRxJyAPsKqZmarAzB",
      "include_colab_link": true
    },
    "kernelspec": {
      "name": "python3",
      "display_name": "Python 3"
    },
    "language_info": {
      "name": "python"
    }
  },
  "cells": [
    {
      "cell_type": "markdown",
      "metadata": {
        "id": "view-in-github",
        "colab_type": "text"
      },
      "source": [
        "<a href=\"https://colab.research.google.com/github/Qiyamipsz/PBO-2/blob/main/Mahasiswa.ipynb\" target=\"_parent\"><img src=\"https://colab.research.google.com/assets/colab-badge.svg\" alt=\"Open In Colab\"/></a>"
      ]
    },
    {
      "cell_type": "markdown",
      "source": [
        "Kelas Mahasiswa"
      ],
      "metadata": {
        "id": "dKsV-dhv0rxk"
      }
    },
    {
      "cell_type": "code",
      "execution_count": 19,
      "metadata": {
        "id": "oGl2ivTd0GOP"
      },
      "outputs": [],
      "source": [
        "# Mendefinisikan kelas Mahasiswa\n",
        "class Mahasiswa:\n",
        "    def __init__(self):\n",
        "        self.nama = \"\"\n",
        "        self.nim = \"\"\n",
        "\n",
        "# Method untuk mencetak KRS\n",
        "    def cetakKRS(self):\n",
        "        print(f\"Nama: {self.nama}\")\n",
        "        print(f\"NIM: {self.nim}\")\n",
        "        print(\"Mata Kuliah yang diambil:\")\n",
        "        print(\"- Pemrograman Python\")\n",
        "        print(\"- Struktur Data\")\n",
        "        print(\"- Basis Data\")"
      ]
    },
    {
      "cell_type": "markdown",
      "source": [
        "Objek mhs"
      ],
      "metadata": {
        "id": "bIG55udP49OJ"
      }
    },
    {
      "cell_type": "code",
      "source": [
        "# Membuat objek dari kelas Mahasiswa\n",
        "mhs = Mahasiswa()\n",
        "\n",
        "# Mengisi nilai atribut objek\n",
        "mhs.nama = \"Budi\"\n",
        "mhs.nim = \"21012345\""
      ],
      "metadata": {
        "id": "cundsC-33TA1"
      },
      "execution_count": 22,
      "outputs": []
    },
    {
      "cell_type": "markdown",
      "source": [
        "Method cetak KRS"
      ],
      "metadata": {
        "id": "LKv9Rr3X6abW"
      }
    },
    {
      "cell_type": "code",
      "source": [
        "# Memanggil method cetakKRS\n",
        "mhs.cetakKRS()"
      ],
      "metadata": {
        "colab": {
          "base_uri": "https://localhost:8080/"
        },
        "id": "4o1TxoTH5XRb",
        "outputId": "c7b85238-ba8e-4b8c-9e01-0e51da88fd40"
      },
      "execution_count": 23,
      "outputs": [
        {
          "output_type": "stream",
          "name": "stdout",
          "text": [
            "Nama: Budi\n",
            "NIM: 21012345\n",
            "Mata Kuliah yang diambil:\n",
            "- Pemrograman Python\n",
            "- Struktur Data\n",
            "- Basis Data\n"
          ]
        }
      ]
    }
  ]
}