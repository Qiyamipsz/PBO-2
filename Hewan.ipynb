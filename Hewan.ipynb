{
  "nbformat": 4,
  "nbformat_minor": 0,
  "metadata": {
    "colab": {
      "provenance": [],
      "authorship_tag": "ABX9TyMlT6wROKhu553HS8+Yfq0n",
      "include_colab_link": true
    },
    "kernelspec": {
      "name": "python3",
      "display_name": "Python 3"
    },
    "language_info": {
      "name": "python"
    }
  },
  "cells": [
    {
      "cell_type": "markdown",
      "metadata": {
        "id": "view-in-github",
        "colab_type": "text"
      },
      "source": [
        "<a href=\"https://colab.research.google.com/github/Qiyamipsz/PBO-2/blob/main/Hewan.ipynb\" target=\"_parent\"><img src=\"https://colab.research.google.com/assets/colab-badge.svg\" alt=\"Open In Colab\"/></a>"
      ]
    },
    {
      "cell_type": "markdown",
      "source": [
        "Class Hewan"
      ],
      "metadata": {
        "id": "D9f69Y7HFQez"
      }
    },
    {
      "cell_type": "code",
      "execution_count": 1,
      "metadata": {
        "id": "FF-i8CtFFL3z"
      },
      "outputs": [],
      "source": [
        "# Mendefinisikan kelas Hewan\n",
        "class Hewan:\n",
        "    def __init__(self):\n",
        "        self.nama = \"\"\n",
        "        self.jenis = \"\"\n",
        "\n",
        "    # Method untuk menampilkan informasi hewan\n",
        "    def infoHewan(self):\n",
        "        print(f\"Hewan ini adalah {self.nama}, jenisnya adalah {self.jenis}.\")\n"
      ]
    },
    {
      "cell_type": "markdown",
      "source": [
        "Objek kucing"
      ],
      "metadata": {
        "id": "9htOk97LFde-"
      }
    },
    {
      "cell_type": "code",
      "source": [
        "# Membuat objek dari kelas Hewan\n",
        "kucing = Hewan()\n",
        "\n",
        "# Mengisi nilai atribut objek\n",
        "kucing.nama = \"Milo\"\n",
        "kucing.jenis = \"Kucing Persia\""
      ],
      "metadata": {
        "id": "xAlfndJmFiDT"
      },
      "execution_count": 2,
      "outputs": []
    },
    {
      "cell_type": "markdown",
      "source": [
        "Method infoHewan"
      ],
      "metadata": {
        "id": "yUKr0fPkFmDO"
      }
    },
    {
      "cell_type": "code",
      "source": [
        "# Memanggil method infoHewan\n",
        "kucing.infoHewan()"
      ],
      "metadata": {
        "colab": {
          "base_uri": "https://localhost:8080/"
        },
        "id": "sfQEriYtFs2s",
        "outputId": "f7223396-59a4-4126-a1a7-7a574f84f2b3"
      },
      "execution_count": 3,
      "outputs": [
        {
          "output_type": "stream",
          "name": "stdout",
          "text": [
            "Hewan ini adalah Milo, jenisnya adalah Kucing Persia.\n"
          ]
        }
      ]
    }
  ]
}