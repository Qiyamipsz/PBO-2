{
  "nbformat": 4,
  "nbformat_minor": 0,
  "metadata": {
    "colab": {
      "provenance": [],
      "authorship_tag": "ABX9TyPMRE5x5MbFCUbb0mFXy5Hk",
      "include_colab_link": true
    },
    "kernelspec": {
      "name": "python3",
      "display_name": "Python 3"
    },
    "language_info": {
      "name": "python"
    }
  },
  "cells": [
    {
      "cell_type": "markdown",
      "metadata": {
        "id": "view-in-github",
        "colab_type": "text"
      },
      "source": [
        "<a href=\"https://colab.research.google.com/github/Qiyamipsz/PBO-2/blob/main/Mobil.ipynb\" target=\"_parent\"><img src=\"https://colab.research.google.com/assets/colab-badge.svg\" alt=\"Open In Colab\"/></a>"
      ]
    },
    {
      "cell_type": "markdown",
      "source": [
        "Kelas Mobil"
      ],
      "metadata": {
        "id": "Tgura2CfDm_g"
      }
    },
    {
      "cell_type": "code",
      "execution_count": 1,
      "metadata": {
        "id": "mZEdSmdkDeHO"
      },
      "outputs": [],
      "source": [
        "# Mendefinisikan kelas Mobil\n",
        "class Mobil:\n",
        "    def __init__(self):\n",
        "        self.merk = \"\"\n",
        "        self.warna = \"\"\n",
        "\n",
        "    # Method untuk menampilkan informasi mobil\n",
        "    def tampilkanInfo(self):\n",
        "        print(f\"Mobil {self.merk} berwarna {self.warna}\")"
      ]
    },
    {
      "cell_type": "markdown",
      "source": [
        "Objek car"
      ],
      "metadata": {
        "id": "cEVZav2hDtb4"
      }
    },
    {
      "cell_type": "code",
      "source": [
        "# Membuat objek dari kelas Mobil\n",
        "car = Mobil()\n",
        "\n",
        "# Mengisi nilai atribut objek\n",
        "car.merk = \"Toyota\"\n",
        "car.warna = \"Merah\""
      ],
      "metadata": {
        "id": "io7jSDSxDx7T"
      },
      "execution_count": 2,
      "outputs": []
    },
    {
      "cell_type": "markdown",
      "source": [
        "Method tampilkanInfo"
      ],
      "metadata": {
        "id": "akR26wIKD087"
      }
    },
    {
      "cell_type": "code",
      "source": [
        "# Memanggil method tampilkanInfo\n",
        "car.tampilkanInfo()"
      ],
      "metadata": {
        "colab": {
          "base_uri": "https://localhost:8080/"
        },
        "id": "cXDZ4sqnD9Z1",
        "outputId": "6fb57611-87a7-4ba1-fd76-b2cb98ce2894"
      },
      "execution_count": 3,
      "outputs": [
        {
          "output_type": "stream",
          "name": "stdout",
          "text": [
            "Mobil Toyota berwarna Merah\n"
          ]
        }
      ]
    }
  ]
}